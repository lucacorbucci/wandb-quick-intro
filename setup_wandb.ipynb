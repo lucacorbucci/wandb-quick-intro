{
 "cells": [
  {
   "cell_type": "code",
   "execution_count": null,
   "metadata": {},
   "outputs": [],
   "source": [
    "# First of all we need to initialize our wandb account from our shell\n",
    "# During the initialization we will be asked to provide our API key\n",
    "# Go to this page to get your api key: https://wandb.ai/authorize\n",
    "\n",
    "# !wandb init"
   ]
  },
  {
   "cell_type": "code",
   "execution_count": null,
   "metadata": {},
   "outputs": [],
   "source": [
    "import wandb\n",
    "from utils import weather_data_generator"
   ]
  },
  {
   "cell_type": "markdown",
   "metadata": {},
   "source": [
    "# Initialization of a W&B Run object \n",
    "\n",
    "The run object is the object used to log data to W&B.\n",
    "We can create a run object using the `wandb.init()` function.\n",
    "There are several parameters that can be passed to the `wandb.init()` function to customize the run object:\n",
    "- `project`: The name of the project to which the experiment belongs.\n",
    "- `name`: The name of the experiment.\n",
    "- `config`: A dictionary of configuration parameters for the run we're starting. These are static parameters that usually do not change during the process and that will be logged to WANDB. They can be useful to identify the run and to compare different runs.\n",
    "- `tags`: A list of tags to add to the run. These can be useful to filter the different experiments and to group them by tags."
   ]
  },
  {
   "cell_type": "code",
   "execution_count": null,
   "metadata": {},
   "outputs": [],
   "source": [
    "wandb_run = wandb.init(project=\"Temperatures\", # name of the project in which we want to store our runs\n",
    "                        name=\"Barcelona\", # name of the specific run\n",
    "                        config={\n",
    "                            \"city\": \"Barcelona\",  # configuration parameters for this run                          \n",
    "                        },\n",
    "                        tags=[\"barcelona\"])"
   ]
  },
  {
   "cell_type": "markdown",
   "metadata": {},
   "source": [
    "# Logging data to W&B\n",
    "\n",
    "Once we have a run object, we can log data to wandb using the `wandb.log()` function.\n",
    "This function takes as input a dictionary with all the data we want to log to wandb. \n",
    "\n",
    "By default, wandb will assign a \"timestamp\" called \"step\" to each of the logged data. This is useful to see how the experiment evolved during time. However, in some cases it can be difficult to give a meaning to the \"step\" parameter. My suggestion is to specify at logging time what will be the \"x\" axis of our plot. For instance, if we are logging the loss of a model during training, we can specify the \"epoch\" as the \"x\" axis of the plot. This can be done by adding the \"epoch\" as a key of the dictionary passed to the `wandb.log()` function with the value of the epoch as the value of the key.\n",
    "\n",
    "In this simple example here below, we will log some information about weather in Barcelona in a specific date. In this case, the \"x\" axis that we want to use is the time of the day. So we will put \"hour\" with the corresponding value as the key of the dictionary passed to the `wandb.log()` function."
   ]
  },
  {
   "cell_type": "code",
   "execution_count": null,
   "metadata": {},
   "outputs": [],
   "source": [
    "# When we call weather_data_generator we get a measurement \n",
    "# every 2 seconds. Each time we get a new measurement we log it \n",
    "\n",
    "for hour, temperature, humidity, apparent_temperature, precipitation_probability in weather_data_generator():\n",
    "    print(f\"Logging new data point - Temperature {temperature} - Humidity {humidity} - Apparent Temperature {apparent_temperature} - Precipitation Probability {precipitation_probability}\")\n",
    "    wandb_run.log({\"hour\": hour, \"temperature\": temperature, \"humidity\": humidity, \"apparent_temperature\": apparent_temperature, \"precipitation_probability\": precipitation_probability})"
   ]
  }
 ],
 "metadata": {
  "kernelspec": {
   "display_name": ".venv",
   "language": "python",
   "name": "python3"
  },
  "language_info": {
   "codemirror_mode": {
    "name": "ipython",
    "version": 3
   },
   "file_extension": ".py",
   "mimetype": "text/x-python",
   "name": "python",
   "nbconvert_exporter": "python",
   "pygments_lexer": "ipython3",
   "version": "3.11.6"
  }
 },
 "nbformat": 4,
 "nbformat_minor": 2
}
