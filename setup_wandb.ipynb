{
 "cells": [
  {
   "cell_type": "code",
   "execution_count": null,
   "metadata": {},
   "outputs": [],
   "source": [
    "# First of all we need to initialize our wandb account from our shell\n",
    "# During the initialization we will be asked to provide our API key\n",
    "# Go to this page to get your api key: https://wandb.ai/authorize\n",
    "\n",
    "# !wandb init"
   ]
  },
  {
   "cell_type": "code",
   "execution_count": 1,
   "metadata": {},
   "outputs": [],
   "source": [
    "import wandb\n",
    "from utils import weather_data_generator"
   ]
  },
  {
   "cell_type": "markdown",
   "metadata": {},
   "source": [
    "# Initialization of a W&B Run object \n",
    "\n",
    "The run object is the object used to log data to W&B.\n",
    "We can create a run object using the `wandb.init()` function.\n",
    "There are several parameters that can be passed to the `wandb.init()` function to customize the run object:\n",
    "- `project`: The name of the project to which the experiment belongs.\n",
    "- `name`: The name of the experiment.\n",
    "- `config`: A dictionary of configuration parameters for the run we're starting. These are static parameters that usually do not change during the process and that will be logged to WANDB. They can be useful to identify the run and to compare different runs.\n",
    "- `tags`: A list of tags to add to the run. These can be useful to filter the different experiments and to group them by tags."
   ]
  },
  {
   "cell_type": "code",
   "execution_count": 2,
   "metadata": {},
   "outputs": [
    {
     "name": "stderr",
     "output_type": "stream",
     "text": [
      "Failed to detect the name of this notebook, you can set it manually with the WANDB_NOTEBOOK_NAME environment variable to enable code saving.\n",
      "\u001b[34m\u001b[1mwandb\u001b[0m: Currently logged in as: \u001b[33mlucacorbucci\u001b[0m. Use \u001b[1m`wandb login --relogin`\u001b[0m to force relogin\n"
     ]
    },
    {
     "data": {
      "text/html": [
       "Tracking run with wandb version 0.16.3"
      ],
      "text/plain": [
       "<IPython.core.display.HTML object>"
      ]
     },
     "metadata": {},
     "output_type": "display_data"
    },
    {
     "data": {
      "text/html": [
       "Run data is saved locally in <code>/home/lcorbucci/wandb-quick-intro/wandb/run-20240219_142616-3ogm6yes</code>"
      ],
      "text/plain": [
       "<IPython.core.display.HTML object>"
      ]
     },
     "metadata": {},
     "output_type": "display_data"
    },
    {
     "data": {
      "text/html": [
       "Syncing run <strong><a href='https://wandb.ai/lucacorbucci/Temperatures/runs/3ogm6yes' target=\"_blank\">resplendent-ox-5</a></strong> to <a href='https://wandb.ai/lucacorbucci/Temperatures' target=\"_blank\">Weights & Biases</a> (<a href='https://wandb.me/run' target=\"_blank\">docs</a>)<br/>"
      ],
      "text/plain": [
       "<IPython.core.display.HTML object>"
      ]
     },
     "metadata": {},
     "output_type": "display_data"
    },
    {
     "data": {
      "text/html": [
       " View project at <a href='https://wandb.ai/lucacorbucci/Temperatures' target=\"_blank\">https://wandb.ai/lucacorbucci/Temperatures</a>"
      ],
      "text/plain": [
       "<IPython.core.display.HTML object>"
      ]
     },
     "metadata": {},
     "output_type": "display_data"
    },
    {
     "data": {
      "text/html": [
       " View run at <a href='https://wandb.ai/lucacorbucci/Temperatures/runs/3ogm6yes' target=\"_blank\">https://wandb.ai/lucacorbucci/Temperatures/runs/3ogm6yes</a>"
      ],
      "text/plain": [
       "<IPython.core.display.HTML object>"
      ]
     },
     "metadata": {},
     "output_type": "display_data"
    }
   ],
   "source": [
    "wandb_run = wandb.init(project=\"Temperatures\", # name of the project in which we want to store our runs\n",
    "                        # name=\"Barcelona\", # name of the specific run\n",
    "                        config={\n",
    "                            \"city\": \"Barcelona\",  # configuration parameters for this run                          \n",
    "                        })"
   ]
  },
  {
   "cell_type": "markdown",
   "metadata": {},
   "source": [
    "# Logging data to W&B\n",
    "\n",
    "Once we have a run object, we can log data to wandb using the `wandb.log()` function.\n",
    "This function takes as input a dictionary with all the data we want to log to wandb. \n",
    "\n",
    "By default, wandb will assign a \"timestamp\" called \"step\" to each of the logged data. This is useful to see how the experiment evolved during time. However, in some cases it can be difficult to give a meaning to the \"step\" parameter. My suggestion is to specify at logging time what will be the \"x\" axis of our plot. For instance, if we are logging the loss of a model during training, we can specify the \"epoch\" as the \"x\" axis of the plot. This can be done by adding the \"epoch\" as a key of the dictionary passed to the `wandb.log()` function with the value of the epoch as the value of the key.\n",
    "\n",
    "In this simple example here below, we will log some information about weather in Barcelona in a specific date. In this case, the \"x\" axis that we want to use is the time of the day. So we will put \"hour\" with the corresponding value as the key of the dictionary passed to the `wandb.log()` function."
   ]
  },
  {
   "cell_type": "code",
   "execution_count": 3,
   "metadata": {},
   "outputs": [
    {
     "name": "stdout",
     "output_type": "stream",
     "text": [
      "sucessfully fetched the data\n",
      "Logging new data point - Temperature 14.9 - Humidity 49 - Apparent Temperature 13.4 - Precipitation Probability 0\n",
      "Logging new data point - Temperature 14.9 - Humidity 53 - Apparent Temperature 13.8 - Precipitation Probability 0\n",
      "Logging new data point - Temperature 14.1 - Humidity 53 - Apparent Temperature 12.2 - Precipitation Probability 0\n",
      "Logging new data point - Temperature 13.8 - Humidity 81 - Apparent Temperature 12.8 - Precipitation Probability 0\n",
      "Logging new data point - Temperature 14.0 - Humidity 77 - Apparent Temperature 12.7 - Precipitation Probability 0\n",
      "Logging new data point - Temperature 13.8 - Humidity 68 - Apparent Temperature 12.0 - Precipitation Probability 0\n",
      "Logging new data point - Temperature 14.4 - Humidity 65 - Apparent Temperature 12.8 - Precipitation Probability 0\n",
      "Logging new data point - Temperature 15.4 - Humidity 57 - Apparent Temperature 13.7 - Precipitation Probability 0\n",
      "Logging new data point - Temperature 16.2 - Humidity 51 - Apparent Temperature 14.3 - Precipitation Probability 0\n",
      "Logging new data point - Temperature 17.2 - Humidity 46 - Apparent Temperature 15.5 - Precipitation Probability 0\n",
      "Logging new data point - Temperature 18.5 - Humidity 39 - Apparent Temperature 16.3 - Precipitation Probability 0\n",
      "Logging new data point - Temperature 17.9 - Humidity 54 - Apparent Temperature 15.9 - Precipitation Probability 0\n",
      "Logging new data point - Temperature 18.2 - Humidity 48 - Apparent Temperature 16.5 - Precipitation Probability 0\n",
      "Logging new data point - Temperature 18.6 - Humidity 41 - Apparent Temperature 16.3 - Precipitation Probability 0\n",
      "Logging new data point - Temperature 17.9 - Humidity 45 - Apparent Temperature 15.7 - Precipitation Probability 0\n",
      "Logging new data point - Temperature 17.1 - Humidity 55 - Apparent Temperature 15.5 - Precipitation Probability 0\n",
      "Logging new data point - Temperature 14.6 - Humidity 84 - Apparent Temperature 14.3 - Precipitation Probability 0\n",
      "Logging new data point - Temperature 13.7 - Humidity 87 - Apparent Temperature 13.6 - Precipitation Probability 0\n",
      "Logging new data point - Temperature 13.4 - Humidity 87 - Apparent Temperature 13.2 - Precipitation Probability 0\n",
      "Logging new data point - Temperature 13.3 - Humidity 86 - Apparent Temperature 12.9 - Precipitation Probability 0\n",
      "Logging new data point - Temperature 12.8 - Humidity 86 - Apparent Temperature 12.0 - Precipitation Probability 0\n",
      "Logging new data point - Temperature 10.5 - Humidity 95 - Apparent Temperature 9.5 - Precipitation Probability 0\n",
      "Logging new data point - Temperature 10.8 - Humidity 89 - Apparent Temperature 9.8 - Precipitation Probability 0\n",
      "Logging new data point - Temperature 11.6 - Humidity 80 - Apparent Temperature 10.6 - Precipitation Probability 0\n"
     ]
    }
   ],
   "source": [
    "# When we call weather_data_generator we get a measurement \n",
    "# every 2 seconds. Each time we get a new measurement we log it \n",
    "\n",
    "for hour, temperature, humidity, apparent_temperature, precipitation_probability in weather_data_generator():\n",
    "    print(f\"Logging new data point - Temperature {temperature} - Humidity {humidity} - Apparent Temperature {apparent_temperature} - Precipitation Probability {precipitation_probability}\")\n",
    "    wandb.log({\"hour\": hour, \"temperature\": temperature, \"humidity\": humidity, \"apparent_temperature\": apparent_temperature, \"precipitation_probability\": precipitation_probability})"
   ]
  }
 ],
 "metadata": {
  "kernelspec": {
   "display_name": ".venv",
   "language": "python",
   "name": "python3"
  },
  "language_info": {
   "codemirror_mode": {
    "name": "ipython",
    "version": 3
   },
   "file_extension": ".py",
   "mimetype": "text/x-python",
   "name": "python",
   "nbconvert_exporter": "python",
   "pygments_lexer": "ipython3",
   "version": "3.8.10"
  }
 },
 "nbformat": 4,
 "nbformat_minor": 2
}
