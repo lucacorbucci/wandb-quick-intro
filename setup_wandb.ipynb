{
 "cells": [
  {
   "cell_type": "code",
   "execution_count": null,
   "metadata": {},
   "outputs": [],
   "source": [
    "# First of all we need to initialize our wandb account from our shell\n",
    "# During the initialization we will be asked to provide our API key\n",
    "# Go to this page to get your api key: https://wandb.ai/authorize\n",
    "\n",
    "# !wandb init"
   ]
  },
  {
   "cell_type": "code",
   "execution_count": 1,
   "metadata": {},
   "outputs": [],
   "source": [
    "import wandb\n",
    "from utils import weather_data_generator"
   ]
  },
  {
   "cell_type": "markdown",
   "metadata": {},
   "source": [
    "# Initialization of a W&B Run object \n",
    "\n",
    "The run object is the object used to log data to W&B.\n",
    "We can create a run object using the `wandb.init()` function.\n",
    "There are several parameters that can be passed to the `wandb.init()` function to customize the run object:\n",
    "- `project`: The name of the project to which the experiment belongs.\n",
    "- `name`: The name of the experiment.\n",
    "- `config`: A dictionary of configuration parameters for the run we're starting. These are static parameters that usually do not change during the process and that will be logged to WANDB. They can be useful to identify the run and to compare different runs.\n",
    "- `tags`: A list of tags to add to the run. These can be useful to filter the different experiments and to group them by tags."
   ]
  },
  {
   "cell_type": "code",
   "execution_count": 3,
   "metadata": {},
   "outputs": [
    {
     "data": {
      "text/html": [
       "Finishing last run (ID:svsm72s0) before initializing another..."
      ],
      "text/plain": [
       "<IPython.core.display.HTML object>"
      ]
     },
     "metadata": {},
     "output_type": "display_data"
    },
    {
     "data": {
      "text/html": [
       " View run <strong style=\"color:#cdcd00\">Pisa</strong> at: <a href='https://wandb.ai/lucacorbucci/Temperatures/runs/svsm72s0' target=\"_blank\">https://wandb.ai/lucacorbucci/Temperatures/runs/svsm72s0</a><br/> View project at: <a href='https://wandb.ai/lucacorbucci/Temperatures' target=\"_blank\">https://wandb.ai/lucacorbucci/Temperatures</a><br/>Synced 4 W&B file(s), 0 media file(s), 3 artifact file(s) and 0 other file(s)"
      ],
      "text/plain": [
       "<IPython.core.display.HTML object>"
      ]
     },
     "metadata": {},
     "output_type": "display_data"
    },
    {
     "data": {
      "text/html": [
       "Find logs at: <code>./wandb/run-20241016_145119-svsm72s0/logs</code>"
      ],
      "text/plain": [
       "<IPython.core.display.HTML object>"
      ]
     },
     "metadata": {},
     "output_type": "display_data"
    },
    {
     "data": {
      "text/html": [
       "Successfully finished last run (ID:svsm72s0). Initializing new run:<br/>"
      ],
      "text/plain": [
       "<IPython.core.display.HTML object>"
      ]
     },
     "metadata": {},
     "output_type": "display_data"
    },
    {
     "data": {
      "text/html": [
       "Tracking run with wandb version 0.18.3"
      ],
      "text/plain": [
       "<IPython.core.display.HTML object>"
      ]
     },
     "metadata": {},
     "output_type": "display_data"
    },
    {
     "data": {
      "text/html": [
       "Run data is saved locally in <code>/home/lcorbucci/wandb-quick-intro/wandb/run-20241016_145254-ywq5jx6x</code>"
      ],
      "text/plain": [
       "<IPython.core.display.HTML object>"
      ]
     },
     "metadata": {},
     "output_type": "display_data"
    },
    {
     "data": {
      "text/html": [
       "Syncing run <strong><a href='https://wandb.ai/lucacorbucci/ALT/runs/ywq5jx6x' target=\"_blank\">Pisa</a></strong> to <a href='https://wandb.ai/lucacorbucci/ALT' target=\"_blank\">Weights & Biases</a> (<a href='https://wandb.me/run' target=\"_blank\">docs</a>)<br/>"
      ],
      "text/plain": [
       "<IPython.core.display.HTML object>"
      ]
     },
     "metadata": {},
     "output_type": "display_data"
    },
    {
     "data": {
      "text/html": [
       " View project at <a href='https://wandb.ai/lucacorbucci/ALT' target=\"_blank\">https://wandb.ai/lucacorbucci/ALT</a>"
      ],
      "text/plain": [
       "<IPython.core.display.HTML object>"
      ]
     },
     "metadata": {},
     "output_type": "display_data"
    },
    {
     "data": {
      "text/html": [
       " View run at <a href='https://wandb.ai/lucacorbucci/ALT/runs/ywq5jx6x' target=\"_blank\">https://wandb.ai/lucacorbucci/ALT/runs/ywq5jx6x</a>"
      ],
      "text/plain": [
       "<IPython.core.display.HTML object>"
      ]
     },
     "metadata": {},
     "output_type": "display_data"
    }
   ],
   "source": [
    "wandb_run = wandb.init(project=\"ALT\", # name of the project in which we want to store our runs\n",
    "                        name=\"Pisa\", # name of the specific run\n",
    "                        config={\n",
    "                            \"city\": \"Pisa\",  # configuration parameters for this run    \n",
    "                            \"country\": \"IT\",     \n",
    "                        },\n",
    "                        tags=[\"Pisa\"])"
   ]
  },
  {
   "cell_type": "markdown",
   "metadata": {},
   "source": [
    "# Logging data to W&B\n",
    "\n",
    "Once we have a run object, we can log data to wandb using the `wandb.log()` function.\n",
    "This function takes as input a dictionary with all the data we want to log to wandb. \n",
    "\n",
    "By default, wandb will assign a \"timestamp\" called \"step\" to each of the logged data. This is useful to see how the experiment evolved during time. However, in some cases it can be difficult to give a meaning to the \"step\" parameter. My suggestion is to specify at logging time what will be the \"x\" axis of our plot. For instance, if we are logging the loss of a model during training, we can specify the \"epoch\" as the \"x\" axis of the plot. This can be done by adding the \"epoch\" as a key of the dictionary passed to the `wandb.log()` function with the value of the epoch as the value of the key.\n",
    "\n",
    "In this simple example here below, we will log some information about weather in Barcelona in a specific date. In this case, the \"x\" axis that we want to use is the time of the day. So we will put \"hour\" with the corresponding value as the key of the dictionary passed to the `wandb.log()` function."
   ]
  },
  {
   "cell_type": "code",
   "execution_count": 4,
   "metadata": {},
   "outputs": [
    {
     "name": "stdout",
     "output_type": "stream",
     "text": [
      "sucessfully fetched the data\n",
      "Logging new data point - Temperature 19.3 - Humidity 93 - Apparent Temperature 21.9 - Precipitation Probability 48\n",
      "Logging new data point - Temperature 19.2 - Humidity 93 - Apparent Temperature 21.5 - Precipitation Probability 15\n",
      "Logging new data point - Temperature 19.2 - Humidity 93 - Apparent Temperature 21.6 - Precipitation Probability 5\n",
      "Logging new data point - Temperature 19.1 - Humidity 92 - Apparent Temperature 21.4 - Precipitation Probability 0\n",
      "Logging new data point - Temperature 19.0 - Humidity 92 - Apparent Temperature 21.3 - Precipitation Probability 0\n",
      "Logging new data point - Temperature 19.0 - Humidity 91 - Apparent Temperature 21.2 - Precipitation Probability 0\n",
      "Logging new data point - Temperature 19.0 - Humidity 91 - Apparent Temperature 21.2 - Precipitation Probability 0\n",
      "Logging new data point - Temperature 19.2 - Humidity 90 - Apparent Temperature 21.4 - Precipitation Probability 0\n",
      "Logging new data point - Temperature 19.8 - Humidity 88 - Apparent Temperature 22.2 - Precipitation Probability 0\n",
      "Logging new data point - Temperature 21.4 - Humidity 82 - Apparent Temperature 24.2 - Precipitation Probability 0\n",
      "Logging new data point - Temperature 22.3 - Humidity 81 - Apparent Temperature 24.6 - Precipitation Probability 0\n",
      "Logging new data point - Temperature 23.1 - Humidity 73 - Apparent Temperature 24.3 - Precipitation Probability 0\n",
      "Logging new data point - Temperature 23.2 - Humidity 73 - Apparent Temperature 23.8 - Precipitation Probability 0\n",
      "Logging new data point - Temperature 23.6 - Humidity 70 - Apparent Temperature 24.0 - Precipitation Probability 5\n",
      "Logging new data point - Temperature 23.5 - Humidity 67 - Apparent Temperature 23.6 - Precipitation Probability 3\n",
      "Logging new data point - Temperature 23.3 - Humidity 67 - Apparent Temperature 23.5 - Precipitation Probability 13\n",
      "Logging new data point - Temperature 22.9 - Humidity 70 - Apparent Temperature 23.4 - Precipitation Probability 0\n",
      "Logging new data point - Temperature 22.1 - Humidity 77 - Apparent Temperature 23.4 - Precipitation Probability 3\n",
      "Logging new data point - Temperature 21.5 - Humidity 82 - Apparent Temperature 23.8 - Precipitation Probability 8\n",
      "Logging new data point - Temperature 21.1 - Humidity 85 - Apparent Temperature 24.0 - Precipitation Probability 3\n",
      "Logging new data point - Temperature 21.0 - Humidity 86 - Apparent Temperature 24.0 - Precipitation Probability 10\n",
      "Logging new data point - Temperature 20.7 - Humidity 88 - Apparent Temperature 23.6 - Precipitation Probability 3\n",
      "Logging new data point - Temperature 20.3 - Humidity 91 - Apparent Temperature 23.0 - Precipitation Probability 5\n",
      "Logging new data point - Temperature 20.1 - Humidity 91 - Apparent Temperature 22.6 - Precipitation Probability 3\n"
     ]
    }
   ],
   "source": [
    "# When we call weather_data_generator we get a measurement \n",
    "# every 2 seconds. Each time we get a new measurement we log it \n",
    "\n",
    "for hour, temperature, humidity, apparent_temperature, precipitation_probability in weather_data_generator():\n",
    "    print(f\"Logging new data point - Temperature {temperature} - Humidity {humidity} - Apparent Temperature {apparent_temperature} - Precipitation Probability {precipitation_probability}\")\n",
    "    wandb_run.log({\"hour\": hour, \"temperature\": temperature, \"humidity\": humidity, \"apparent_temperature\": apparent_temperature, \"precipitation_probability\": precipitation_probability})"
   ]
  }
 ],
 "metadata": {
  "kernelspec": {
   "display_name": ".venv",
   "language": "python",
   "name": "python3"
  },
  "language_info": {
   "codemirror_mode": {
    "name": "ipython",
    "version": 3
   },
   "file_extension": ".py",
   "mimetype": "text/x-python",
   "name": "python",
   "nbconvert_exporter": "python",
   "pygments_lexer": "ipython3",
   "version": "3.11.9"
  }
 },
 "nbformat": 4,
 "nbformat_minor": 2
}
