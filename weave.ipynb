{
 "cells": [
  {
   "cell_type": "code",
   "execution_count": 1,
   "metadata": {},
   "outputs": [],
   "source": [
    "# %pip install weave\n",
    "# %pip install python-dotenv\n",
    "# %pip install dill"
   ]
  },
  {
   "cell_type": "code",
   "execution_count": 57,
   "metadata": {},
   "outputs": [],
   "source": [
    "import weave \n",
    "from openai import OpenAI\n",
    "from dotenv import load_dotenv\n",
    "import os \n",
    "import requests\n",
    "import dill\n",
    "\n",
    "from openai import OpenAI\n",
    "import weave\n",
    "from weave import Model\n",
    "import numpy as np\n",
    "import asyncio\n",
    "import json\n",
    "from weave.flow.scorer import Scorer\n",
    "from typing import Any, Optional\n",
    "from weave.trace.vals import WeaveList"
   ]
  },
  {
   "cell_type": "markdown",
   "metadata": {},
   "source": [
    "# Example with Weave\n",
    "\n",
    "In this notebook we'll quickly see how to use Weave to track your Gen AI Application."
   ]
  },
  {
   "cell_type": "code",
   "execution_count": 59,
   "metadata": {},
   "outputs": [],
   "source": [
    "# Load the Open AI API key from the .env file \n",
    "# (we can use a different LLM provider if we want)\n",
    "load_dotenv()\n",
    "OPENAI_API_KEY = os.getenv('OPENAI_API_KEY')\n",
    "\n",
    "client = OpenAI(api_key=OPENAI_API_KEY)"
   ]
  },
  {
   "cell_type": "code",
   "execution_count": 60,
   "metadata": {},
   "outputs": [
    {
     "name": "stderr",
     "output_type": "stream",
     "text": [
      "There are different credentials in the netrc file and the environment. Using the environment value.\n"
     ]
    },
    {
     "name": "stdout",
     "output_type": "stream",
     "text": [
      "Logged in as Weights & Biases user: lucacorbucci.\n",
      "View Weave data at https://wandb.ai/lucacorbucci/simple_logging/weave\n"
     ]
    },
    {
     "data": {
      "text/plain": [
       "<weave.trace.weave_client.WeaveClient at 0x7f6c584eb410>"
      ]
     },
     "execution_count": 60,
     "metadata": {},
     "output_type": "execute_result"
    }
   ],
   "source": [
    "# initialize the weave\n",
    "weave.init('simple_logging')"
   ]
  },
  {
   "cell_type": "markdown",
   "metadata": {},
   "source": [
    "### Using the weave.op() decorator\n",
    "\n",
    "If we decorate a function using the @weave.op() decorator, we can log the input and outputs of this function using the weave. \n"
   ]
  },
  {
   "cell_type": "code",
   "execution_count": 61,
   "metadata": {},
   "outputs": [],
   "source": [
    "@weave.op()\n",
    "def test_weave(sentence: str) -> dict:\n",
    "    response = \"Hello World!\"\n",
    "\n",
    "    return response"
   ]
  },
  {
   "cell_type": "code",
   "execution_count": 62,
   "metadata": {},
   "outputs": [
    {
     "name": "stdout",
     "output_type": "stream",
     "text": [
      "🍩 https://wandb.ai/lucacorbucci/simple_logging/r/call/019295e4-0aba-7003-accf-0dbb1e63c6d2\n"
     ]
    },
    {
     "data": {
      "text/plain": [
       "'Hello World!'"
      ]
     },
     "execution_count": 62,
     "metadata": {},
     "output_type": "execute_result"
    }
   ],
   "source": [
    "test_weave(\"Ciao!\")"
   ]
  },
  {
   "cell_type": "markdown",
   "metadata": {},
   "source": [
    "### Interacting with an LLM"
   ]
  },
  {
   "cell_type": "code",
   "execution_count": 63,
   "metadata": {},
   "outputs": [
    {
     "name": "stdout",
     "output_type": "stream",
     "text": [
      "🍩 https://wandb.ai/lucacorbucci/simple_logging/r/call/019295e5-1680-7e62-b5c3-7f95e83aaab1\n",
      "{\n",
      "  \"names\": [\n",
      "    {\n",
      "      \"name\": \"Robert Baratheon\",\n",
      "      \"actor\": \"Mark Addy\",\n",
      "      \"house\": \"Baratheon\"\n",
      "    },\n",
      "    {\n",
      "      \"name\": \"Eddard Stark\",\n",
      "      \"actor\": \"Sean Bean\",\n",
      "      \"house\": \"Stark\"\n",
      "    },\n",
      "    {\n",
      "      \"name\": \"Cersei Lannister\",\n",
      "      \"actor\": \"Lena Headey\",\n",
      "      \"house\": \"Lannister\"\n",
      "    },\n",
      "    {\n",
      "      \"name\": \"Robb Stark\",\n",
      "      \"actor\": \"Richard Madden\",\n",
      "      \"house\": \"Stark\"\n",
      "    },\n",
      "    {\n",
      "      \"name\": \"Sansa Stark\",\n",
      "      \"actor\": \"Sophie Turner\",\n",
      "      \"house\": \"Stark\"\n",
      "    },\n",
      "    {\n",
      "      \"name\": \"Arya Stark\",\n",
      "      \"actor\": \"Maisie Williams\",\n",
      "      \"house\": \"Stark\"\n",
      "    },\n",
      "    {\n",
      "      \"name\": \"Bran Stark\",\n",
      "      \"actor\": \"Isaac Hempstead Wright\",\n",
      "      \"house\": \"Stark\"\n",
      "    },\n",
      "    {\n",
      "      \"name\": \"Jon Snow\",\n",
      "      \"actor\": \"Kit Harington\",\n",
      "      \"house\": \"Stark\"\n",
      "    },\n",
      "    {\n",
      "      \"name\": \"Jaime Lannister\",\n",
      "      \"actor\": \"Nikolaj Coster-Waldau\",\n",
      "      \"house\": \"Lannister\"\n",
      "    },\n",
      "    {\n",
      "      \"name\": \"Tyrion Lannister\",\n",
      "      \"actor\": \"Peter Dinklage\",\n",
      "      \"house\": \"Lannister\"\n",
      "    },\n",
      "    {\n",
      "      \"name\": \"Daenerys Targaryen\",\n",
      "      \"actor\": \"Emilia Clarke\",\n",
      "      \"house\": \"Targaryen\"\n",
      "    }\n",
      "  ]\n",
      "}\n"
     ]
    }
   ],
   "source": [
    "@weave.op()\n",
    "def extract_names(sentence: str) -> dict:\n",
    "    response = client.chat.completions.create(\n",
    "        model=\"gpt-4o\",\n",
    "        messages=[\n",
    "            {\n",
    "                \"role\": \"system\",\n",
    "                \"content\": \"\"\"In JSON format extract a list of `names`, with their `name` in the tv show, \n",
    "the `name` of the actor who played the character in the tv show , and the name of the `house` they belong to.\"\"\"\n",
    "            },\n",
    "            {\n",
    "                \"role\": \"user\",\n",
    "                \"content\": sentence\n",
    "            }\n",
    "            ],\n",
    "            response_format={ \"type\": \"json_object\" }\n",
    "        )\n",
    "    return response.choices[0].message.content\n",
    "\n",
    "corpus = \"This war develops after the death of King Robert Baratheon (played by Mark Addy) and the resulting feud between his friend and ally Lord Eddard (“Ned”) Stark (Sean Bean) and Robert’s widow, Queen Cersei Lannister (Lena Headey), and her children. The conflict draws in two of the Stark children, Robb (Richard Madden) and Sansa (Sophie Turner), while the younger children Arya (Maisie Williams) and Bran (Isaac Hempstead Wright) find themselves on their own terrifying adventures. Jon Snow (Kit Harington), raised as a bastard member of the Stark family, serves in the Night’s Watch, a military organization that defends the Seven Kingdoms from forces beyond the Wall. Cersei’s brothers Jaime (Nikolaj Coster-Waldau) and Tyrion (Peter Dinklage) also play key roles. Exiled on the continent of Essos, Daenerys Targaryen (Emilia Clarke) seeks to return to Westeros with dragons and an army in order to reclaim the Iron Throne for House Targaryen.\"\n",
    "\n",
    "print(extract_names(corpus))"
   ]
  },
  {
   "cell_type": "markdown",
   "metadata": {},
   "source": [
    "## Tracking the performances of a RAG using Weave\n",
    "\n",
    "In this example we will create our own RAG model and track its performances using Weave.\n",
    "\n",
    "We will use some code from the [RAG example](https://weave-docs.wandb.ai/tutorial-rag) on the wandb website."
   ]
  },
  {
   "cell_type": "code",
   "execution_count": 18,
   "metadata": {},
   "outputs": [],
   "source": [
    "# We create our corpus of articles. \n",
    "articles = [\n",
    "    \"Novo Nordisk and Eli Lilly rival soars 32 percent after promising weight loss drug results Shares of Denmarks Zealand Pharma shot 32 percent higher in morning trade, after results showed success in its liver disease treatment survodutide, which is also on trial as a drug to treat obesity. The trial “tells us that the 6mg dose is safe, which is the top dose used in the ongoing [Phase 3] obesity trial too,” one analyst said in a note. The results come amid feverish investor interest in drugs that can be used for weight loss.\",\n",
    "    \"Berkshire shares jump after big profit gain as Buffetts conglomerate nears $1 trillion valuation Berkshire Hathaway shares rose on Monday after Warren Buffetts conglomerate posted strong earnings for the fourth quarter over the weekend. Berkshires Class A and B shares jumped more than 1.5%, each. Class A shares are higher by more than 17% this year, while Class B has gained more than 18%. Berkshire was last valued at $930.1 billion, up from $905.5 billion where it closed on Friday, according to FactSet. Berkshire on Saturday posted fourth-quarter operating earnings of $8.481 billion, about 28 percent higher than the $6.625 billion from the year-ago period, driven by big gains in its insurance business. Operating earnings refers to profits from businesses across insurance, railroads and utilities. Meanwhile, Berkshires cash levels also swelled to record levels. The conglomerate held $167.6 billion in cash in the fourth quarter, surpassing the $157.2 billion record the conglomerate held in the prior quarter.\",\n",
    "    \"Highmark Health says its combining tech from Google and Epic to give doctors easier access to information Highmark Health announced it is integrating technology from Google Cloud and the health-care software company Epic Systems. The integration aims to make it easier for both payers and providers to access key information they need, even if it's stored across multiple points and formats, the company said. Highmark is the parent company of a health plan with 7 million members, a provider network of 14 hospitals and other entities\",\n",
    "    \"Rivian and Lucid shares plunge after weak EV earnings reports Shares of electric vehicle makers Rivian and Lucid fell Thursday after the companies reported stagnant production in their fourth-quarter earnings after the bell Wednesday. Rivian shares sank about 25 percent, and Lucids stock dropped around 17 percent. Rivian forecast it will make 57,000 vehicles in 2024, slightly less than the 57,232 vehicles it produced in 2023. Lucid said it expects to make 9,000 vehicles in 2024, more than the 8,428 vehicles it made in 2023.\",\n",
    "    \"Mauritius blocks Norwegian cruise ship over fears of a potential cholera outbreak Local authorities on Sunday denied permission for the Norwegian Dawn ship, which has 2,184 passengers and 1,026 crew on board, to access the Mauritius capital of Port Louis, citing “potential health risks.” The Mauritius Ports Authority said Sunday that samples were taken from at least 15 passengers on board the cruise ship. A spokesperson for the U.S.-headquartered Norwegian Cruise Line Holdings said Sunday that 'a small number of guests experienced mild symptoms of a stomach-related illness' during Norwegian Dawns South Africa voyage.\",\n",
    "    \"Intuitive Machines lands on the moon in historic first for a U.S. company Intuitive Machines Nova-C cargo lander, named Odysseus after the mythological Greek hero, is the first U.S. spacecraft to soft land on the lunar surface since 1972. Intuitive Machines is the first company to pull off a moon landing — government agencies have carried out all previously successful missions. The company's stock surged in extended trading Thursday, after falling 11 percent in regular trading.\",\n",
    "    \"Lunar landing photos: Intuitive Machines Odysseus sends back first images from the moon Intuitive Machines cargo moon lander Odysseus returned its first images from the surface. Company executives believe the lander caught its landing gear sideways on the surface of the moon while touching down and tipped over. Despite resting on its side, the company's historic IM-1 mission is still operating on the moon.\",\n",
    "]"
   ]
  },
  {
   "cell_type": "code",
   "execution_count": 64,
   "metadata": {},
   "outputs": [],
   "source": [
    "# We create the embeddings using the OpenAI API\n",
    "def docs_to_embeddings(docs: list) -> list:\n",
    "    openai = OpenAI()\n",
    "    document_embeddings = []\n",
    "    for doc in docs:\n",
    "        response = (\n",
    "            openai.embeddings.create(input=doc, model=\"text-embedding-3-small\")\n",
    "            .data[0]\n",
    "            .embedding\n",
    "        )\n",
    "        document_embeddings.append(response)\n",
    "    return document_embeddings\n",
    "\n",
    "article_embeddings = docs_to_embeddings(articles) "
   ]
  },
  {
   "cell_type": "code",
   "execution_count": 65,
   "metadata": {},
   "outputs": [
    {
     "name": "stderr",
     "output_type": "stream",
     "text": [
      "There are different credentials in the netrc file and the environment. Using the environment value.\n"
     ]
    },
    {
     "name": "stdout",
     "output_type": "stream",
     "text": [
      "Logged in as Weights & Biases user: lucacorbucci.\n",
      "View Weave data at https://wandb.ai/lucacorbucci/rag-qa/weave\n"
     ]
    }
   ],
   "source": [
    "# This is our RAG model, we define a function that gets the most relevant document to the query\n",
    "# and then inside the RAGModel class we define the predict function that uses the most relevant document\n",
    "# to answer the question.\n",
    "@weave.op()\n",
    "def get_most_relevant_document(query):\n",
    "    openai = OpenAI()\n",
    "    query_embedding = (\n",
    "        openai.embeddings.create(input=query, model=\"text-embedding-3-small\")\n",
    "        .data[0]\n",
    "        .embedding\n",
    "    )\n",
    "    similarities = [\n",
    "        np.dot(query_embedding, doc_emb)\n",
    "        / (np.linalg.norm(query_embedding) * np.linalg.norm(doc_emb))\n",
    "        for doc_emb in article_embeddings\n",
    "    ]\n",
    "    # Get the index of the most similar document\n",
    "    most_relevant_doc_index = np.argmax(similarities)\n",
    "    return articles[most_relevant_doc_index]\n",
    "\n",
    "class RAGModel(Model):\n",
    "    system_message: str\n",
    "    model_name: str = \"gpt-3.5-turbo-1106\"\n",
    "    \n",
    "    # Since we want to log questions and the corresponding answers, we use the `weave.op()` decorator\n",
    "    @weave.op()\n",
    "    def predict(self, question: str) -> dict: # note: `question` will be used later to select data from our evaluation rows\n",
    "        from openai import OpenAI\n",
    "        context = get_most_relevant_document(question)\n",
    "        client = OpenAI()\n",
    "        query = f\"\"\"Use the following information to answer the subsequent question. If the answer cannot be found, write \"I don't know.\"\n",
    "        Context:\n",
    "        \\\"\\\"\\\"\n",
    "        {context}\n",
    "        \\\"\\\"\\\"\n",
    "        Question: {question}\"\"\"\n",
    "        response = client.chat.completions.create(\n",
    "            model=self.model_name,\n",
    "            messages=[\n",
    "                {\"role\": \"system\", \"content\": self.system_message},\n",
    "                {\"role\": \"user\", \"content\": query},\n",
    "            ],\n",
    "            temperature=0.0,\n",
    "            response_format={\"type\": \"text\"},\n",
    "        )\n",
    "        answer = response.choices[0].message.content\n",
    "        return {'answer': answer, 'context': context}\n",
    "\n",
    "# We initialize the weave and the RAG model\n",
    "weave.init('rag-qa')\n",
    "model = RAGModel(\n",
    "    system_message=\"You are an expert in finance and answer questions related to finance, financial services, and financial markets. When responding based on provided information, be sure to cite the source.\"\n",
    ")"
   ]
  },
  {
   "cell_type": "code",
   "execution_count": 50,
   "metadata": {},
   "outputs": [],
   "source": [
    "# We define a function to evaluate the model on a list of questions\n",
    "# and to get some metrics. For this function, we will use the `weave.op()` decorator\n",
    "# because we want to log the results of the evaluation.\n",
    "@weave.op()\n",
    "async def context_precision_score(question, model_output):\n",
    "    context_precision_prompt = \"\"\"Given question, answer and context verify if the context was useful in arriving at the given answer. Give verdict as \"1\" if useful and \"0\" if not with json output. \n",
    "    Output in only valid JSON format.\n",
    "\n",
    "    question: {question}\n",
    "    context: {context}\n",
    "    answer: {answer}\n",
    "    verdict: \"\"\"\n",
    "    client = OpenAI()\n",
    "\n",
    "    prompt = context_precision_prompt.format(\n",
    "        question=question,\n",
    "        context=model_output['context'],\n",
    "        answer=model_output['answer'],\n",
    "    )\n",
    "\n",
    "    response = client.chat.completions.create(\n",
    "        model=\"gpt-4-turbo-preview\",\n",
    "        messages=[{\"role\": \"user\", \"content\": prompt}],\n",
    "        response_format={ \"type\": \"json_object\" }\n",
    "    )\n",
    "    response_message = response.choices[0].message\n",
    "    response = json.loads(response_message.content)\n",
    "    return {\n",
    "        \"verdict\": int(response[\"verdict\"]) == 1,\n",
    "    }\n"
   ]
  },
  {
   "cell_type": "code",
   "execution_count": 66,
   "metadata": {},
   "outputs": [],
   "source": [
    "questions = [\n",
    "    {\"question\": \"What significant result was reported about Zealand Pharma's obesity trial?\"},\n",
    "    {\"question\": \"How much did Berkshire Hathaway's cash levels increase in the fourth quarter?\"},\n",
    "    {\"question\": \"What is the goal of Highmark Health's integration of Google Cloud and Epic Systems technology?\"},\n",
    "    {\"question\": \"What were Rivian and Lucid's vehicle production forecasts for 2024?\"},\n",
    "    {\"question\": \"Why was the Norwegian Dawn cruise ship denied access to Mauritius?\"},\n",
    "    {\"question\": \"Which company achieved the first U.S. moon landing since 1972?\"},\n",
    "    {\"question\": \"What issue did Intuitive Machines' lunar lander encounter upon landing on the moon?\"},\n",
    "    {\"question\": \"How many game of thrones characters are there?\"}\n",
    "]"
   ]
  },
  {
   "cell_type": "code",
   "execution_count": 67,
   "metadata": {},
   "outputs": [],
   "source": [
    "# We define an Evaluation object and pass our example questions along with scoring functions\n",
    "evaluation = weave.Evaluation(dataset=questions, scorers=[context_precision_score])"
   ]
  },
  {
   "cell_type": "code",
   "execution_count": 68,
   "metadata": {},
   "outputs": [
    {
     "data": {
      "text/html": [
       "<pre style=\"white-space:pre;overflow-x:auto;line-height:normal;font-family:Menlo,'DejaVu Sans Mono',consolas,'Courier New',monospace\">Evaluated <span style=\"color: #008080; text-decoration-color: #008080; font-weight: bold\">1</span> of <span style=\"color: #008080; text-decoration-color: #008080; font-weight: bold\">8</span> examples\n",
       "</pre>\n"
      ],
      "text/plain": [
       "Evaluated \u001b[1;36m1\u001b[0m of \u001b[1;36m8\u001b[0m examples\n"
      ]
     },
     "metadata": {},
     "output_type": "display_data"
    },
    {
     "data": {
      "text/html": [
       "<pre style=\"white-space:pre;overflow-x:auto;line-height:normal;font-family:Menlo,'DejaVu Sans Mono',consolas,'Courier New',monospace\">Evaluated <span style=\"color: #008080; text-decoration-color: #008080; font-weight: bold\">2</span> of <span style=\"color: #008080; text-decoration-color: #008080; font-weight: bold\">8</span> examples\n",
       "</pre>\n"
      ],
      "text/plain": [
       "Evaluated \u001b[1;36m2\u001b[0m of \u001b[1;36m8\u001b[0m examples\n"
      ]
     },
     "metadata": {},
     "output_type": "display_data"
    },
    {
     "data": {
      "text/html": [
       "<pre style=\"white-space:pre;overflow-x:auto;line-height:normal;font-family:Menlo,'DejaVu Sans Mono',consolas,'Courier New',monospace\">Evaluated <span style=\"color: #008080; text-decoration-color: #008080; font-weight: bold\">3</span> of <span style=\"color: #008080; text-decoration-color: #008080; font-weight: bold\">8</span> examples\n",
       "</pre>\n"
      ],
      "text/plain": [
       "Evaluated \u001b[1;36m3\u001b[0m of \u001b[1;36m8\u001b[0m examples\n"
      ]
     },
     "metadata": {},
     "output_type": "display_data"
    },
    {
     "data": {
      "text/html": [
       "<pre style=\"white-space:pre;overflow-x:auto;line-height:normal;font-family:Menlo,'DejaVu Sans Mono',consolas,'Courier New',monospace\">Evaluated <span style=\"color: #008080; text-decoration-color: #008080; font-weight: bold\">4</span> of <span style=\"color: #008080; text-decoration-color: #008080; font-weight: bold\">8</span> examples\n",
       "</pre>\n"
      ],
      "text/plain": [
       "Evaluated \u001b[1;36m4\u001b[0m of \u001b[1;36m8\u001b[0m examples\n"
      ]
     },
     "metadata": {},
     "output_type": "display_data"
    },
    {
     "data": {
      "text/html": [
       "<pre style=\"white-space:pre;overflow-x:auto;line-height:normal;font-family:Menlo,'DejaVu Sans Mono',consolas,'Courier New',monospace\">Evaluated <span style=\"color: #008080; text-decoration-color: #008080; font-weight: bold\">5</span> of <span style=\"color: #008080; text-decoration-color: #008080; font-weight: bold\">8</span> examples\n",
       "</pre>\n"
      ],
      "text/plain": [
       "Evaluated \u001b[1;36m5\u001b[0m of \u001b[1;36m8\u001b[0m examples\n"
      ]
     },
     "metadata": {},
     "output_type": "display_data"
    },
    {
     "data": {
      "text/html": [
       "<pre style=\"white-space:pre;overflow-x:auto;line-height:normal;font-family:Menlo,'DejaVu Sans Mono',consolas,'Courier New',monospace\">Evaluated <span style=\"color: #008080; text-decoration-color: #008080; font-weight: bold\">6</span> of <span style=\"color: #008080; text-decoration-color: #008080; font-weight: bold\">8</span> examples\n",
       "</pre>\n"
      ],
      "text/plain": [
       "Evaluated \u001b[1;36m6\u001b[0m of \u001b[1;36m8\u001b[0m examples\n"
      ]
     },
     "metadata": {},
     "output_type": "display_data"
    },
    {
     "data": {
      "text/html": [
       "<pre style=\"white-space:pre;overflow-x:auto;line-height:normal;font-family:Menlo,'DejaVu Sans Mono',consolas,'Courier New',monospace\">Evaluated <span style=\"color: #008080; text-decoration-color: #008080; font-weight: bold\">7</span> of <span style=\"color: #008080; text-decoration-color: #008080; font-weight: bold\">8</span> examples\n",
       "</pre>\n"
      ],
      "text/plain": [
       "Evaluated \u001b[1;36m7\u001b[0m of \u001b[1;36m8\u001b[0m examples\n"
      ]
     },
     "metadata": {},
     "output_type": "display_data"
    },
    {
     "data": {
      "text/html": [
       "<pre style=\"white-space:pre;overflow-x:auto;line-height:normal;font-family:Menlo,'DejaVu Sans Mono',consolas,'Courier New',monospace\">Evaluated <span style=\"color: #008080; text-decoration-color: #008080; font-weight: bold\">8</span> of <span style=\"color: #008080; text-decoration-color: #008080; font-weight: bold\">8</span> examples\n",
       "</pre>\n"
      ],
      "text/plain": [
       "Evaluated \u001b[1;36m8\u001b[0m of \u001b[1;36m8\u001b[0m examples\n"
      ]
     },
     "metadata": {},
     "output_type": "display_data"
    },
    {
     "data": {
      "text/html": [
       "<pre style=\"white-space:pre;overflow-x:auto;line-height:normal;font-family:Menlo,'DejaVu Sans Mono',consolas,'Courier New',monospace\">Evaluation summary\n",
       "<span style=\"font-weight: bold\">{</span>\n",
       "    <span style=\"color: #008000; text-decoration-color: #008000\">'context_precision_score'</span>: <span style=\"font-weight: bold\">{</span><span style=\"color: #008000; text-decoration-color: #008000\">'verdict'</span>: <span style=\"font-weight: bold\">{</span><span style=\"color: #008000; text-decoration-color: #008000\">'true_count'</span>: <span style=\"color: #008080; text-decoration-color: #008080; font-weight: bold\">7</span>, <span style=\"color: #008000; text-decoration-color: #008000\">'true_fraction'</span>: <span style=\"color: #008080; text-decoration-color: #008080; font-weight: bold\">0.875</span><span style=\"font-weight: bold\">}}</span>,\n",
       "    <span style=\"color: #008000; text-decoration-color: #008000\">'model_latency'</span>: <span style=\"font-weight: bold\">{</span><span style=\"color: #008000; text-decoration-color: #008000\">'mean'</span>: <span style=\"color: #008080; text-decoration-color: #008080; font-weight: bold\">6.379351556301117</span><span style=\"font-weight: bold\">}</span>\n",
       "<span style=\"font-weight: bold\">}</span>\n",
       "</pre>\n"
      ],
      "text/plain": [
       "Evaluation summary\n",
       "\u001b[1m{\u001b[0m\n",
       "    \u001b[32m'context_precision_score'\u001b[0m: \u001b[1m{\u001b[0m\u001b[32m'verdict'\u001b[0m: \u001b[1m{\u001b[0m\u001b[32m'true_count'\u001b[0m: \u001b[1;36m7\u001b[0m, \u001b[32m'true_fraction'\u001b[0m: \u001b[1;36m0.875\u001b[0m\u001b[1m}\u001b[0m\u001b[1m}\u001b[0m,\n",
       "    \u001b[32m'model_latency'\u001b[0m: \u001b[1m{\u001b[0m\u001b[32m'mean'\u001b[0m: \u001b[1;36m6.379351556301117\u001b[0m\u001b[1m}\u001b[0m\n",
       "\u001b[1m}\u001b[0m\n"
      ]
     },
     "metadata": {},
     "output_type": "display_data"
    },
    {
     "name": "stdout",
     "output_type": "stream",
     "text": [
      "🍩 https://wandb.ai/lucacorbucci/rag-qa/r/call/019295e9-3a68-7d12-917a-bd0439721224\n"
     ]
    },
    {
     "data": {
      "text/plain": [
       "{'context_precision_score': {'verdict': {'true_count': 7,\n",
       "   'true_fraction': 0.875}},\n",
       " 'model_latency': {'mean': 6.379351556301117}}"
      ]
     },
     "execution_count": 68,
     "metadata": {},
     "output_type": "execute_result"
    }
   ],
   "source": [
    "await evaluation.evaluate(model)"
   ]
  }
 ],
 "metadata": {
  "kernelspec": {
   "display_name": ".venv",
   "language": "python",
   "name": "python3"
  },
  "language_info": {
   "codemirror_mode": {
    "name": "ipython",
    "version": 3
   },
   "file_extension": ".py",
   "mimetype": "text/x-python",
   "name": "python",
   "nbconvert_exporter": "python",
   "pygments_lexer": "ipython3",
   "version": "3.11.9"
  }
 },
 "nbformat": 4,
 "nbformat_minor": 2
}
